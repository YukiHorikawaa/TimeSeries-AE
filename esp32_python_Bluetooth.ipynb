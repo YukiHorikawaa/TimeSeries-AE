{
 "cells": [
  {
   "cell_type": "markdown",
   "metadata": {},
   "source": [
    "# esp32_Bluetooth\n",
    "\n",
    "参考\n",
    "> https://www.dfrobot.com/blog-944.html"
   ]
  },
  {
   "cell_type": "code",
   "execution_count": null,
   "metadata": {},
   "outputs": [],
   "source": [
    "pip install pybluez"
   ]
  },
  {
   "cell_type": "code",
   "execution_count": null,
   "metadata": {},
   "outputs": [],
   "source": [
    "import bluetooth"
   ]
  },
  {
   "cell_type": "markdown",
   "metadata": {},
   "source": [
    "## 接続可能なBLE機器を探索\n",
    "\n"
   ]
  },
  {
   "cell_type": "code",
   "execution_count": null,
   "metadata": {},
   "outputs": [],
   "source": [
    "devices = bluetooth.discover_devices(lookup_names=True)\n",
    "print(type(devices))\n",
    "devices"
   ]
  },
  {
   "cell_type": "code",
   "execution_count": null,
   "metadata": {},
   "outputs": [],
   "source": [
    "print(\"Devices found: %s\" % len(devices))"
   ]
  },
  {
   "cell_type": "code",
   "execution_count": null,
   "metadata": {},
   "outputs": [],
   "source": [
    "for item in devices:\n",
    "    print(item)"
   ]
  },
  {
   "cell_type": "code",
   "execution_count": null,
   "metadata": {
    "scrolled": true
   },
   "outputs": [],
   "source": [
    "bluetooth.read_local_bdaddr()"
   ]
  },
  {
   "cell_type": "markdown",
   "metadata": {},
   "source": [
    "## serialで読み取ることにする\n",
    "\n",
    "https://pyserial.readthedocs.io/en/latest/shortintro.html\n",
    "\n",
    "https://pyserial.readthedocs.io/en/latest/pyserial_api.html"
   ]
  },
  {
   "cell_type": "markdown",
   "metadata": {},
   "source": [
    "### 2byte送信\n",
    "https://kougaku-navi.hatenablog.com/entry/20140501/p1"
   ]
  },
  {
   "cell_type": "code",
   "execution_count": null,
   "metadata": {},
   "outputs": [],
   "source": [
    "import serial\n",
    "ser = serial.Serial('/dev/cu.ESP32-ESP32SPP-1', 9600, timeout=1) \n",
    "# x = ser.read()      # read one byte \n",
    "low = 0\n",
    "high = 0\n",
    "# x = ser.read(3)\n",
    "# print(ser.read().decode())\n",
    "if (ser.read().decode() == 'H' ):\n",
    "    low = ser.read() # 下位バイトの読み取り\n",
    "#     high = ser.read()#上位バイトの読み取り\n",
    "#     recv_data = low + high\n",
    "#     s = ser.read(100)        # read up to ten bytes (timeout)\n",
    "#     line = ser.readline().decode()   # read a '\\n' terminated line"
   ]
  },
  {
   "cell_type": "markdown",
   "metadata": {},
   "source": [
    "### バイナリ読み込み\n",
    "\n",
    "https://qiita.com/keitasumiya/items/25a707c37a73bfd95bac"
   ]
  },
  {
   "cell_type": "code",
   "execution_count": null,
   "metadata": {},
   "outputs": [],
   "source": [
    "import serial\n",
    "ser = serial.Serial('/dev/cu.ESP32-ESP32SPP-1', 9600, timeout=0.1) \n",
    "ser.flush()"
   ]
  },
  {
   "cell_type": "code",
   "execution_count": null,
   "metadata": {},
   "outputs": [],
   "source": [
    "import serial\n",
    "ser = serial.Serial('/dev/cu.ESP32-ESP32SPP-1', 9600, timeout=0.1) \n",
    "headByte = ser.read()  # 1文字読み込み\n",
    "head = int.from_bytes(headByte, 'big')\n",
    "\n",
    "if head == 128:\n",
    "    highByte = ser.read()  # 1文字読み込み\n",
    "    lowByte = ser.read()  # 1文字読み込み\n",
    "    high = int.from_bytes(highByte, 'big')\n",
    "    low = int.from_bytes(lowByte, 'big')\n",
    "    val = (high<<7) + low;\n",
    "\n",
    "    print(head)\n",
    "    print(headByte)\n",
    "    print(val)\n"
   ]
  },
  {
   "cell_type": "code",
   "execution_count": null,
   "metadata": {},
   "outputs": [],
   "source": [
    "print(highByte)\n",
    "print(lowByte)"
   ]
  },
  {
   "cell_type": "code",
   "execution_count": null,
   "metadata": {},
   "outputs": [],
   "source": [
    "import struct\n",
    "low = headByte\n",
    "print(low)\n",
    "a = struct.unpack('b', low)\n",
    "print(ord(low))"
   ]
  },
  {
   "cell_type": "code",
   "execution_count": null,
   "metadata": {
    "scrolled": true
   },
   "outputs": [],
   "source": [
    "print(low)\n",
    "print(high.hex())\n",
    "print(recv_data)\n",
    "# print(ord(low.decode())\n",
    "# print(ord(recv_data.hex().encode()))\n",
    "\n",
    "import struct\n",
    "# compiled = struct.Struct('\\x0f')\n",
    "# a = struct.unpack('b', '\\x0f')\n",
    "print(ord(low))\n",
    "print(ord(high))\n",
    "# print(ord(recv_data))\n",
    "# x.decode()\n",
    "\n",
    "import binascii\n",
    "s = recv_data.decode('ascii')    # 下位４桁を文字列「1f41」に\n",
    "b = binascii.a2b_hex(s)        # 16進文字列→バイナリ\n",
    "i = int.from_bytes(b,\"little\") # 16671が欲しいならlittleのはず\n",
    "print(i) # 16671\n"
   ]
  },
  {
   "cell_type": "code",
   "execution_count": null,
   "metadata": {},
   "outputs": [],
   "source": [
    "ord('0xff0x0f')"
   ]
  },
  {
   "cell_type": "code",
   "execution_count": null,
   "metadata": {},
   "outputs": [],
   "source": [
    "import matplotlib.pyplot as plt\n",
    "import numpy as np\n",
    "import time\n",
    "data = []\n",
    "flag = True;\n",
    "# ser = serial.Serial('/dev/cu.ESP32-ESP32SPP-1', 9600, timeout=1)"
   ]
  },
  {
   "cell_type": "markdown",
   "metadata": {},
   "source": [
    "## 50づつデータ取得（動く）"
   ]
  },
  {
   "cell_type": "code",
   "execution_count": null,
   "metadata": {},
   "outputs": [],
   "source": [
    "for i in range(5):\n",
    "    data = []\n",
    "    flag = True;\n",
    "    while flag:\n",
    "        ser = serial.Serial('/dev/cu.ESP32-ESP32SPP-1', 9600, timeout=0.1) \n",
    "        headByte = ser.read()  # 1文字読み込み\n",
    "        head = int.from_bytes(headByte, 'big')\n",
    "\n",
    "        if head == 128:\n",
    "            highByte = ser.read()  # 1文字読み込み\n",
    "            lowByte = ser.read()  # 1文字読み込み\n",
    "            high = int.from_bytes(highByte, 'big')\n",
    "            low = int.from_bytes(lowByte, 'big')\n",
    "            val = (high<<7) + low;\n",
    "            data.append(val)\n",
    "            time.sleep(0.001)\n",
    "        if len(data) > 50:\n",
    "            flag = False\n",
    "            num = np.arange(0, len(data), 1)\n",
    "            plt.gca().invert_yaxis()\n",
    "            plt.plot(num, data)\n",
    "            plt.show()"
   ]
  },
  {
   "cell_type": "code",
   "execution_count": null,
   "metadata": {},
   "outputs": [],
   "source": [
    "flag = True;\n",
    "data = []\n",
    "while flag:\n",
    "    ser = serial.Serial('/dev/cu.ESP32-ESP32SPP-1', 9600, timeout=1)\n",
    "    x = ser.read(4).decode()\n",
    "    if int(x) > 500:\n",
    "        data.append(int(x))\n",
    "        time.sleep(0.001)\n",
    "        \n",
    "    if len(data) > 100:\n",
    "        flag = False\n",
    "        num = np.arange(0, len(data), 1)\n",
    "        plt.gca().invert_yaxis()\n",
    "        plt.plot(num, data)"
   ]
  },
  {
   "cell_type": "code",
   "execution_count": null,
   "metadata": {},
   "outputs": [],
   "source": [
    "\n",
    "\n",
    "num = np.arange(0, len(data), 1)\n",
    "plt.gca().invert_yaxis()\n",
    "plt.plot(num, data)"
   ]
  },
  {
   "cell_type": "code",
   "execution_count": null,
   "metadata": {},
   "outputs": [],
   "source": [
    "x"
   ]
  },
  {
   "cell_type": "markdown",
   "metadata": {},
   "source": [
    "## リアルタイムでデータ確認(バイナリ実装動作確認済み)\n",
    "\n",
    "https://bibty.hatenablog.com/entry/2018/10/22/151707"
   ]
  },
  {
   "cell_type": "code",
   "execution_count": null,
   "metadata": {},
   "outputs": [],
   "source": [
    "# -*- coding:utf-8 -*-\n",
    "\n",
    "%gui qt\n",
    "#プロット関係のライブラリ\n",
    "import pyqtgraph as pg\n",
    "from pyqtgraph.Qt import QtCore, QtGui\n",
    "import numpy as np\n",
    "import serial\n",
    "import sys\n",
    "\n",
    "class PlotWindow:\n",
    "    def __init__(self):\n",
    "        #プロット初期設定\n",
    "        self.x_len = 100\n",
    "        self.color = (0, 255, 255)\n",
    "        self.win=pg.GraphicsWindow()\n",
    "        self.win.setWindowTitle(u\"リアルタイムプロット\")\n",
    "        self.plt=self.win.addPlot() #プロットのビジュアル関係\n",
    "        self.plt.setYRange(-1,5000)    #y軸の上限、下限の設定\n",
    "        self.plt.setXRange(-1,self.x_len)    #x軸の上限、下限の設定\n",
    "        self.curve=self.plt.plot(pen= self.color)  #プロットデータを入れる場所\n",
    "        \n",
    "        self.ser = serial.Serial('/dev/cu.ESP32-ESP32SPP-1', 115200, timeout=1)\n",
    "#         self.ser.open()\n",
    "        self.ser.flush()\n",
    "      \n",
    "        #アップデート時間設定\n",
    "        self.timer=QtCore.QTimer()\n",
    "        self.timer.timeout.connect(self.update)\n",
    "        self.timer.start(1)    #10msごとにupdateを呼び出し\n",
    "\n",
    "        #UART受信データ(data)\n",
    "        self.data=[0]\n",
    "        self.val = 0\n",
    "        \n",
    "    def update(self):            \n",
    "        #データの読み取り\n",
    "        headByte = self.ser.read()  # 1文字読み込み\n",
    "        head = int.from_bytes(headByte, 'big')\n",
    "\n",
    "        if head == 128:\n",
    "            highByte = self.ser.read()  # 1文字読み込み\n",
    "            lowByte = self.ser.read()  # 1文字読み込み\n",
    "            high = int.from_bytes(highByte, 'big')\n",
    "            low = int.from_bytes(lowByte, 'big')\n",
    "            self.val = (high<<7) + low;\n",
    "#         if self.val < 1000:\n",
    "#             self.curve = self.plt.plot(pen= (255,0,0))  #プロットデータを入れる場所\n",
    "        if self.val > 500:\n",
    "            if len(self.data) >= self.x_len:\n",
    "                self.data.pop(0)\n",
    "            self.data.append(self.val)\n",
    "\n",
    "            self.curve.setData(self.data)   #プロットデータを格納\n",
    "            #self.ser.write(bytearray([70])) #デバック用送信器\n",
    "\n",
    "if __name__==\"__main__\":\n",
    "    plotwin=PlotWindow()\n",
    "    if (sys.flags.interactive!=1) or not hasattr(QtCore, 'PYQT_VERSION'):\n",
    "        QtGui.QApplication.instance().exec_()\n",
    "        print(1)"
   ]
  },
  {
   "cell_type": "code",
   "execution_count": null,
   "metadata": {},
   "outputs": [],
   "source": []
  },
  {
   "cell_type": "code",
   "execution_count": null,
   "metadata": {},
   "outputs": [],
   "source": [
    "# -*- coding:utf-8 -*-\n",
    "\n",
    "%gui qt\n",
    "#プロット関係のライブラリ\n",
    "import pyqtgraph as pg\n",
    "from pyqtgraph.Qt import QtCore, QtGui\n",
    "import numpy as np\n",
    "import serial\n",
    "import sys\n",
    "\n",
    "class PlotWindow:\n",
    "    def __init__(self):\n",
    "        #プロット初期設定\n",
    "        self.x_len = 100\n",
    "        self.color = (0, 255, 255)\n",
    "        self.win=pg.GraphicsWindow()\n",
    "        self.win.setWindowTitle(u\"リアルタイムプロット\")\n",
    "        self.plt=self.win.addPlot() #プロットのビジュアル関係\n",
    "        self.plt.setYRange(-1,5000)    #y軸の上限、下限の設定\n",
    "        self.plt.setXRange(-1,self.x_len)    #x軸の上限、下限の設定\n",
    "        self.curve=self.plt.plot(pen= self.color)  #プロットデータを入れる場所\n",
    "        \n",
    "        self.ser = serial.Serial('/dev/cu.ESP32-ESP32SPP-1', 115200, timeout=1)\n",
    "#         self.ser.open()\n",
    "        self.ser.flush()\n",
    "      \n",
    "        #アップデート時間設定\n",
    "        self.timer=QtCore.QTimer()\n",
    "        self.timer.timeout.connect(self.update)\n",
    "        self.timer.start(1)    #10msごとにupdateを呼び出し\n",
    "\n",
    "        #UART受信データ(data)\n",
    "        self.data=[0]\n",
    "        \n",
    "    def update(self):            \n",
    "        #データの読み取り\n",
    "        ReceData = self.ser.read(4)\n",
    "#         ReceData = int(ReceData)\n",
    "#         if not((ReceData[1] == '\\r') or (ReceData[1] == '\\n') or (ReceData[2] == '\\r') or (ReceData[2] == '\\n')):\n",
    "        if ReceData[3] == '\\r':\n",
    "            ReceData = int(ReceData[0:3].decode())\n",
    "        else:\n",
    "            ReceData = int(ReceData.decode())\n",
    "        if ReceData > 500:\n",
    "            if len(self.data) >= self.x_len:\n",
    "                self.data.pop(0)\n",
    "            self.data.append(ReceData)\n",
    "\n",
    "            self.curve.setData(self.data)   #プロットデータを格納\n",
    "            #self.ser.write(bytearray([70])) #デバック用送信器\n",
    "\n",
    "if __name__==\"__main__\":\n",
    "    plotwin=PlotWindow()\n",
    "    if (sys.flags.interactive!=1) or not hasattr(QtCore, 'PYQT_VERSION'):\n",
    "        QtGui.QApplication.instance().exec_()\n",
    "   "
   ]
  },
  {
   "cell_type": "code",
   "execution_count": null,
   "metadata": {},
   "outputs": [],
   "source": [
    "mylist = [0, 1, 2,3,4]\n",
    "print(mylist)\n",
    "mylist.remove(0)\n",
    "printnt(mylist)"
   ]
  },
  {
   "cell_type": "markdown",
   "metadata": {},
   "source": [
    "### データの取得方法\n",
    "\n",
    "データは４桁が最高、３桁が最小３桁の場合は最後の文字が空白になるので、それ以降の[0:3]をとってくる"
   ]
  },
  {
   "cell_type": "code",
   "execution_count": null,
   "metadata": {},
   "outputs": [],
   "source": [
    "#もしも取得データが345だった場合\n",
    "s = '345\\r'\n",
    "print(s)\n",
    "int(s[0:3])"
   ]
  },
  {
   "cell_type": "markdown",
   "metadata": {},
   "source": [
    "## 以下うまくいかなかった"
   ]
  },
  {
   "cell_type": "code",
   "execution_count": null,
   "metadata": {},
   "outputs": [],
   "source": [
    "import Adafruit_BluefruitLE\n",
    "from Adafruit_BluefruitLE.services import UART"
   ]
  },
  {
   "cell_type": "code",
   "execution_count": null,
   "metadata": {},
   "outputs": [],
   "source": [
    "# Get the BLE provider for the current platform.\n",
    "ble = Adafruit_BluefruitLE.get_provider()"
   ]
  },
  {
   "cell_type": "code",
   "execution_count": null,
   "metadata": {},
   "outputs": [],
   "source": [
    "ble"
   ]
  },
  {
   "cell_type": "code",
   "execution_count": null,
   "metadata": {},
   "outputs": [],
   "source": [
    "# Initialize the BLE system. MUST be called before other BLE calls!\n",
    "ble.initialize()\n",
    "# Start the mainloop to process BLE events, and run the provided function in\n",
    "# a background thread. When the provided main function stops running, returns\n",
    "# an integer status code, or throws an error the program will exit.\n",
    "ble.run_mainloop_with(main)"
   ]
  },
  {
   "cell_type": "markdown",
   "metadata": {},
   "source": [
    "参考\n",
    "> https://cdn-learn.adafruit.com/downloads/pdf/bluefruit-le-python-library.pdf\n",
    ">ライブラリhttps://github.com/adafruit/Adafruit_Python_BluefruitLE/blob/master/examples/uart_service.py"
   ]
  },
  {
   "cell_type": "code",
   "execution_count": null,
   "metadata": {},
   "outputs": [],
   "source": []
  }
 ],
 "metadata": {
  "kernelspec": {
   "display_name": "Python 3",
   "language": "python",
   "name": "python3"
  },
  "language_info": {
   "codemirror_mode": {
    "name": "ipython",
    "version": 3
   },
   "file_extension": ".py",
   "mimetype": "text/x-python",
   "name": "python",
   "nbconvert_exporter": "python",
   "pygments_lexer": "ipython3",
   "version": "3.7.7"
  }
 },
 "nbformat": 4,
 "nbformat_minor": 4
}
